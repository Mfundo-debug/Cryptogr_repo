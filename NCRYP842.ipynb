{
  "nbformat": 4,
  "nbformat_minor": 0,
  "metadata": {
    "colab": {
      "name": "NCRYP842",
      "provenance": [],
      "collapsed_sections": []
    },
    "kernelspec": {
      "name": "python3",
      "display_name": "Python 3"
    },
    "language_info": {
      "name": "python"
    }
  },
  "cells": [
    {
      "cell_type": "markdown",
      "metadata": {
        "id": "UY9c2O3sHn5c"
      },
      "source": [
        "# Mfundo Monchwe\n",
        "# NDSC842\n",
        "# 201726904\n",
        "\n",
        "# Question 2\n"
      ]
    },
    {
      "cell_type": "markdown",
      "metadata": {
        "id": "dFGE1kSrElRH"
      },
      "source": [
        "## 2A) \n"
      ]
    },
    {
      "cell_type": "code",
      "metadata": {
        "id": "NszTanOu2yg5"
      },
      "source": [
        "\n",
        "def Caesar_encrypt(plaintext, key):\n",
        "    plaintext = plaintext.upper()\n",
        "    alphabet = \"ABCDEFGHIJKLMNOPQRSTUVWXYZ\"\n",
        "    output = \"\"\n",
        "\n",
        "    for letter in plaintext:\n",
        "        if letter in alphabet: \n",
        "            \n",
        "            letter_index = (alphabet.find(letter) + key) % len(alphabet)\n",
        "\n",
        "            output = output + alphabet[letter_index]\n",
        "        else:\n",
        "            output = output + letter\n",
        "\n",
        "    return output"
      ],
      "execution_count": null,
      "outputs": []
    },
    {
      "cell_type": "code",
      "metadata": {
        "id": "TsoHJ0WWGjal"
      },
      "source": [
        ""
      ],
      "execution_count": null,
      "outputs": []
    },
    {
      "cell_type": "markdown",
      "metadata": {
        "id": "9vJr1WAiFBBs"
      },
      "source": [
        "## 2b)\n"
      ]
    },
    {
      "cell_type": "markdown",
      "metadata": {
        "id": "fCzJkBCzFD2f"
      },
      "source": [
        "The key in the Caesar function must travel through a key creation function, which takes the Plaintext and keyword as input and generates a key. The produced key, together with the plaintext, will be given to the vignere encryption function for encryption."
      ]
    },
    {
      "cell_type": "markdown",
      "metadata": {
        "id": "sHMNllDaFy_U"
      },
      "source": [
        "## Ci) \n",
        "Decimal 79 for “O” can be represented as 01001111 in 8 bit, Decimal 75 for “K” can be represented as 01001011 in 8 bit.\n"
      ]
    },
    {
      "cell_type": "markdown",
      "metadata": {
        "id": "KHRbRl5DGAav"
      },
      "source": [
        "## cii)\n",
        "C = P XOR K \n",
        "P:  01001000\t01001001\n",
        "K: 01001111\t01001011\n",
        "C: 00000111\t00000010\n"
      ]
    },
    {
      "cell_type": "code",
      "metadata": {
        "id": "Bark-rpkF9_W"
      },
      "source": [
        ""
      ],
      "execution_count": null,
      "outputs": []
    }
  ]
}