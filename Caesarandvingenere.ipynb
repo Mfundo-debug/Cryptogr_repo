{
  "nbformat": 4,
  "nbformat_minor": 0,
  "metadata": {
    "colab": {
      "name": "Caesarandvingenere",
      "provenance": [],
      "collapsed_sections": []
    },
    "kernelspec": {
      "name": "python3",
      "display_name": "Python 3"
    },
    "language_info": {
      "name": "python"
    }
  },
  "cells": [
    {
      "cell_type": "markdown",
      "metadata": {
        "id": "i1ifMYzye_Z_"
      },
      "source": [
        "# Mfundo Monchwe\n",
        "# 201726904\n",
        "# NDSC842\n",
        "\n",
        "Caesar and Vingenere encryption decryption implementation using python\n",
        "\n"
      ]
    },
    {
      "cell_type": "code",
      "metadata": {
        "colab": {
          "base_uri": "https://localhost:8080/"
        },
        "id": "I5MWJ521A5NV",
        "outputId": "f870a054-2396-43d3-9405-df58d9d63633"
      },
      "source": [
        "alphabets = \"ABCDEFGHIJKLMNOPQRSTUVWXYZ\"\n",
        "\n",
        "string_input = input('ENter the message: ')\n",
        "\n",
        "input_length = len(string_input)\n",
        "string_output = \"  \"\n",
        "key = int(input('enter the number between 1-25: '))\n",
        "#key %=26\n",
        "for x in range(input_length):\n",
        "    char = string_input[x]\n",
        "    locate_char = alphabets.find(char)\n",
        "    new_loc = locate_char + key;\n",
        "    #if new_loc >=26:\n",
        "        \n",
        "        #new_loc -= 26\n",
        "    string_output += alphabets[new_loc]\n",
        "    print(new_loc)\n",
        "\n",
        "print('encryption message is: ', string_output)\n"
      ],
      "execution_count": null,
      "outputs": [
        {
          "output_type": "stream",
          "text": [
            "ENter the message: Colin\n",
            "enter the number between 1-25: 4\n",
            "6\n",
            "3\n",
            "3\n",
            "3\n",
            "3\n",
            "encryption message is:    GDDDD\n"
          ],
          "name": "stdout"
        }
      ]
    },
    {
      "cell_type": "markdown",
      "metadata": {
        "id": "DVS6z6f1gO1p"
      },
      "source": [
        "The output above is  different in terms of methods that I commented. it also outputs the new values changed from original by shift key of 4\n",
        "\n",
        "although this codes gives as error when I give key  more than 25...  since alphabets stops at 25"
      ]
    },
    {
      "cell_type": "code",
      "metadata": {
        "id": "Fik0uVg6QvnA"
      },
      "source": [
        "import string"
      ],
      "execution_count": null,
      "outputs": []
    },
    {
      "cell_type": "code",
      "metadata": {
        "id": "NKP4WWhDA8t1",
        "colab": {
          "base_uri": "https://localhost:8080/"
        },
        "outputId": "1d83e14b-d4af-494b-9238-859c6ccd7f95"
      },
      "source": [
        "def caesar(text,key,alphabets):\n",
        "    def key_shift(alphabet):\n",
        "      return alphabet[key:] + alphabet[:key]\n",
        "\n",
        "    moved_alphabets = tuple(map(key_shift, alphabets))\n",
        "    final_alphabet = ' '. join(alphabets)\n",
        "    shifted_alphabet = ' '.join(moved_alphabets)\n",
        "    table = str.maketrans(final_alphabet, shifted_alphabet)\n",
        "    return text.translate(table)\n",
        "\n",
        "user_input = input('enter your message: ')\n",
        "user_key = int(input('enter your key: '))\n",
        "print(caesar(user_input,user_key, [string.ascii_lowercase, string.ascii_uppercase, string.punctuation]))\n",
        "\n"
      ],
      "execution_count": null,
      "outputs": [
        {
          "output_type": "stream",
          "text": [
            "enter your message: Colin\n",
            "enter your key: 4\n",
            "Gspmr\n"
          ],
          "name": "stdout"
        }
      ]
    },
    {
      "cell_type": "markdown",
      "metadata": {
        "id": "pokE5FGsg2Aa"
      },
      "source": [
        "This codes runs fine it also involves punctuations, uppercase,lowercases"
      ]
    },
    {
      "cell_type": "markdown",
      "metadata": {
        "id": "WfjJfMmYg13i"
      },
      "source": [
        ""
      ]
    },
    {
      "cell_type": "code",
      "metadata": {
        "colab": {
          "base_uri": "https://localhost:8080/",
          "height": 381
        },
        "id": "pdGPpN-mQ8d6",
        "outputId": "0fd9d0d7-4704-4e4b-c493-9a0c99cd2eea"
      },
      "source": [
        "def vingenere(text, key, alphabets):\n",
        "    def key_shift(alphabet):\n",
        "      return alphabet[key:] - alphabet[:key]\n",
        "#error\n",
        "    moved_alphabets = tuple(map(key_shift, alphabets))\n",
        "    final_alphabet = ' '. join(alphabets)\n",
        "    shifted_alphabet = ' '.join(moved_alphabets)\n",
        "    table = str.maketrans(final_alphabet, shifted_alphabet)\n",
        "    return text.translate(table)\n",
        "\n",
        "user_input = input('enter your message: ')\n",
        "user_key = input('enter your key in terms of words: ')\n",
        "print(vingenere(user_input,user_key, [string.ascii_lowercase, string.ascii_uppercase, string.punctuation]))"
      ],
      "execution_count": null,
      "outputs": [
        {
          "output_type": "stream",
          "text": [
            "enter your message: Colin\n",
            "enter your key in terms of words: four\n"
          ],
          "name": "stdout"
        },
        {
          "output_type": "error",
          "ename": "TypeError",
          "evalue": "ignored",
          "traceback": [
            "\u001b[0;31m---------------------------------------------------------------------------\u001b[0m",
            "\u001b[0;31mTypeError\u001b[0m                                 Traceback (most recent call last)",
            "\u001b[0;32m<ipython-input-25-3bb231cfad99>\u001b[0m in \u001b[0;36m<module>\u001b[0;34m()\u001b[0m\n\u001b[1;32m     11\u001b[0m \u001b[0muser_input\u001b[0m \u001b[0;34m=\u001b[0m \u001b[0minput\u001b[0m\u001b[0;34m(\u001b[0m\u001b[0;34m'enter your message: '\u001b[0m\u001b[0;34m)\u001b[0m\u001b[0;34m\u001b[0m\u001b[0;34m\u001b[0m\u001b[0m\n\u001b[1;32m     12\u001b[0m \u001b[0muser_key\u001b[0m \u001b[0;34m=\u001b[0m \u001b[0minput\u001b[0m\u001b[0;34m(\u001b[0m\u001b[0;34m'enter your key in terms of words: '\u001b[0m\u001b[0;34m)\u001b[0m\u001b[0;34m\u001b[0m\u001b[0;34m\u001b[0m\u001b[0m\n\u001b[0;32m---> 13\u001b[0;31m \u001b[0mprint\u001b[0m\u001b[0;34m(\u001b[0m\u001b[0mvingenere\u001b[0m\u001b[0;34m(\u001b[0m\u001b[0muser_input\u001b[0m\u001b[0;34m,\u001b[0m\u001b[0muser_key\u001b[0m\u001b[0;34m,\u001b[0m \u001b[0;34m[\u001b[0m\u001b[0mstring\u001b[0m\u001b[0;34m.\u001b[0m\u001b[0mascii_lowercase\u001b[0m\u001b[0;34m,\u001b[0m \u001b[0mstring\u001b[0m\u001b[0;34m.\u001b[0m\u001b[0mascii_uppercase\u001b[0m\u001b[0;34m,\u001b[0m \u001b[0mstring\u001b[0m\u001b[0;34m.\u001b[0m\u001b[0mpunctuation\u001b[0m\u001b[0;34m]\u001b[0m\u001b[0;34m)\u001b[0m\u001b[0;34m)\u001b[0m\u001b[0;34m\u001b[0m\u001b[0;34m\u001b[0m\u001b[0m\n\u001b[0m",
            "\u001b[0;32m<ipython-input-25-3bb231cfad99>\u001b[0m in \u001b[0;36mvingenere\u001b[0;34m(text, key, alphabets)\u001b[0m\n\u001b[1;32m      3\u001b[0m       \u001b[0;32mreturn\u001b[0m \u001b[0malphabet\u001b[0m\u001b[0;34m[\u001b[0m\u001b[0mkey\u001b[0m\u001b[0;34m:\u001b[0m\u001b[0;34m]\u001b[0m \u001b[0;34m-\u001b[0m \u001b[0malphabet\u001b[0m\u001b[0;34m[\u001b[0m\u001b[0;34m:\u001b[0m\u001b[0mkey\u001b[0m\u001b[0;34m]\u001b[0m\u001b[0;34m\u001b[0m\u001b[0;34m\u001b[0m\u001b[0m\n\u001b[1;32m      4\u001b[0m \u001b[0;34m\u001b[0m\u001b[0m\n\u001b[0;32m----> 5\u001b[0;31m     \u001b[0mmoved_alphabets\u001b[0m \u001b[0;34m=\u001b[0m \u001b[0mtuple\u001b[0m\u001b[0;34m(\u001b[0m\u001b[0mmap\u001b[0m\u001b[0;34m(\u001b[0m\u001b[0mkey_shift\u001b[0m\u001b[0;34m,\u001b[0m \u001b[0malphabets\u001b[0m\u001b[0;34m)\u001b[0m\u001b[0;34m)\u001b[0m\u001b[0;34m\u001b[0m\u001b[0;34m\u001b[0m\u001b[0m\n\u001b[0m\u001b[1;32m      6\u001b[0m     \u001b[0mfinal_alphabet\u001b[0m \u001b[0;34m=\u001b[0m \u001b[0;34m' '\u001b[0m\u001b[0;34m.\u001b[0m \u001b[0mjoin\u001b[0m\u001b[0;34m(\u001b[0m\u001b[0malphabets\u001b[0m\u001b[0;34m)\u001b[0m\u001b[0;34m\u001b[0m\u001b[0;34m\u001b[0m\u001b[0m\n\u001b[1;32m      7\u001b[0m     \u001b[0mshifted_alphabet\u001b[0m \u001b[0;34m=\u001b[0m \u001b[0;34m' '\u001b[0m\u001b[0;34m.\u001b[0m\u001b[0mjoin\u001b[0m\u001b[0;34m(\u001b[0m\u001b[0mmoved_alphabets\u001b[0m\u001b[0;34m)\u001b[0m\u001b[0;34m\u001b[0m\u001b[0;34m\u001b[0m\u001b[0m\n",
            "\u001b[0;32m<ipython-input-25-3bb231cfad99>\u001b[0m in \u001b[0;36mkey_shift\u001b[0;34m(alphabet)\u001b[0m\n\u001b[1;32m      1\u001b[0m \u001b[0;32mdef\u001b[0m \u001b[0mvingenere\u001b[0m\u001b[0;34m(\u001b[0m\u001b[0mtext\u001b[0m\u001b[0;34m,\u001b[0m \u001b[0mkey\u001b[0m\u001b[0;34m,\u001b[0m \u001b[0malphabets\u001b[0m\u001b[0;34m)\u001b[0m\u001b[0;34m:\u001b[0m\u001b[0;34m\u001b[0m\u001b[0;34m\u001b[0m\u001b[0m\n\u001b[1;32m      2\u001b[0m     \u001b[0;32mdef\u001b[0m \u001b[0mkey_shift\u001b[0m\u001b[0;34m(\u001b[0m\u001b[0malphabet\u001b[0m\u001b[0;34m)\u001b[0m\u001b[0;34m:\u001b[0m\u001b[0;34m\u001b[0m\u001b[0;34m\u001b[0m\u001b[0m\n\u001b[0;32m----> 3\u001b[0;31m       \u001b[0;32mreturn\u001b[0m \u001b[0malphabet\u001b[0m\u001b[0;34m[\u001b[0m\u001b[0mkey\u001b[0m\u001b[0;34m:\u001b[0m\u001b[0;34m]\u001b[0m \u001b[0;34m-\u001b[0m \u001b[0malphabet\u001b[0m\u001b[0;34m[\u001b[0m\u001b[0;34m:\u001b[0m\u001b[0mkey\u001b[0m\u001b[0;34m]\u001b[0m\u001b[0;34m\u001b[0m\u001b[0;34m\u001b[0m\u001b[0m\n\u001b[0m\u001b[1;32m      4\u001b[0m \u001b[0;34m\u001b[0m\u001b[0m\n\u001b[1;32m      5\u001b[0m     \u001b[0mmoved_alphabets\u001b[0m \u001b[0;34m=\u001b[0m \u001b[0mtuple\u001b[0m\u001b[0;34m(\u001b[0m\u001b[0mmap\u001b[0m\u001b[0;34m(\u001b[0m\u001b[0mkey_shift\u001b[0m\u001b[0;34m,\u001b[0m \u001b[0malphabets\u001b[0m\u001b[0;34m)\u001b[0m\u001b[0;34m)\u001b[0m\u001b[0;34m\u001b[0m\u001b[0;34m\u001b[0m\u001b[0m\n",
            "\u001b[0;31mTypeError\u001b[0m: slice indices must be integers or None or have an __index__ method"
          ]
        }
      ]
    },
    {
      "cell_type": "markdown",
      "metadata": {
        "id": "IwNFsSI-hM7p"
      },
      "source": [
        "tried to play around with it so that it works vingenere method.. but having problem with the index slices method, hence I left it"
      ]
    },
    {
      "cell_type": "code",
      "metadata": {
        "colab": {
          "base_uri": "https://localhost:8080/"
        },
        "id": "8BTWc6k3U8x9",
        "outputId": "5f676d3f-f526-4fef-fc05-a4c1ea92b883"
      },
      "source": [
        "def vingenere(text,key):\n",
        "    alphabet = ['a','b','c','d','e','f','g','h','i','j','k','l','m','n','o','p','q','r','s','t','u','v','w','x','y','z']\n",
        "    output = ''\n",
        "    text = text.lower()\n",
        "    key = key.lower()\n",
        "\n",
        "    for x in text:\n",
        "        if not(x in alphabet):\n",
        "            print('text contains non-letters')\n",
        "            return\n",
        "    for x in key:\n",
        "        if not(x in alphabet):\n",
        "            print('key contains non-letters')\n",
        "            return\n",
        "    for x in range(len(text)):\n",
        "\n",
        "        p = alphabet.index(text[x])\n",
        "        r = alphabet.index(key[x % len(key)])\n",
        "        if ((p-r)<0):\n",
        "\n",
        "            output += alphabet[p-r +26]\n",
        "        else:\n",
        "            output += alphabet[p - r]\n",
        "    return output\n",
        "p = input('enter your message: ')\n",
        "r = input('enter your key as a string: ')\n",
        "vin = vingenere(p,r)\n",
        "print(vingenere(vin,r))"
      ],
      "execution_count": null,
      "outputs": [
        {
          "output_type": "stream",
          "text": [
            "enter your message: Colin\n",
            "enter your key as a string: four\n",
            "smxad\n"
          ],
          "name": "stdout"
        }
      ]
    },
    {
      "cell_type": "code",
      "metadata": {
        "colab": {
          "base_uri": "https://localhost:8080/"
        },
        "id": "CfAP_FuQXonv",
        "outputId": "ef38fa56-50a2-4697-8be7-da2c7ffebfc3"
      },
      "source": [
        "\n",
        "def caesar(text,key,alphabets):\n",
        "    def key_shift(alphabet):\n",
        "      return alphabet[key:] + alphabet[:key]\n",
        "\n",
        "    moved_alphabets = tuple(map(key_shift, alphabets))\n",
        "    final_alphabet = ' '. join(alphabets)\n",
        "    shifted_alphabet = ' '.join(moved_alphabets)\n",
        "    table = str.maketrans(final_alphabet, shifted_alphabet)\n",
        "    return text.translate(table)\n",
        "\n",
        "#user_input = input('enter your message: ')\n",
        "#ser_key = int(input('enter your key: '))\n",
        "#print(caesar(user_input,user_key, [string.ascii_lowercase, string.ascii_uppercase, string.punctuation]))\n",
        "\n",
        "\n",
        "def vingenere(text,key):\n",
        "    alphabet = ['a','b','c','d','e','f','g','h','i','j','k','l','m','n','o','p','q','r','s','t','u','v','w','x','y','z']\n",
        "    output = ''\n",
        "    text = text.lower()\n",
        "    key = key.lower()\n",
        "\n",
        "    for x in text:\n",
        "        if not(x in alphabet):\n",
        "            print('text contains non-letters')\n",
        "            return\n",
        "    for x in key:\n",
        "        if not(x in alphabet):\n",
        "            print('key contains non-letters')\n",
        "            return\n",
        "    for x in range(len(text)):\n",
        "\n",
        "        p = alphabet.index(text[x])\n",
        "        r = alphabet.index(key[x % len(key)])\n",
        "        if ((p-r)<0):\n",
        "\n",
        "            output += alphabet[p-r +26]\n",
        "        else:\n",
        "            output += alphabet[p - r]\n",
        "    return output\n",
        "#p = input('enter your message: ')\n",
        "#r = input('enter your key as a string: ')\n",
        "#vin = vingenere(p,r)\n",
        "#print(vingenere(vin,r))\n",
        "\n",
        "def CandV():\n",
        "\n",
        "    user_input = input('enter your message: ')\n",
        "    user_key = int(input('enter your key: '))\n",
        "    print(caesar(user_input,user_key, [string.ascii_lowercase, string.ascii_uppercase, string.punctuation]))\n",
        "\n",
        "    p = input('enter your message: ')\n",
        "    r = input('enter your key as a string: ')\n",
        "    vin = vingenere(p,r)\n",
        "    print(vingenere(vin,r))\n",
        "\n",
        "CandV()"
      ],
      "execution_count": null,
      "outputs": [
        {
          "output_type": "stream",
          "text": [
            "enter your message: Colin\n",
            "enter your key: 4\n",
            "Gspmr\n",
            "enter your message: Colin\n",
            "enter your key as a string: four\n",
            "smxad\n"
          ],
          "name": "stdout"
        }
      ]
    },
    {
      "cell_type": "markdown",
      "metadata": {
        "id": "klGk7i7ZhcJF"
      },
      "source": [
        "feel free to run the menu above.... thats the final product"
      ]
    },
    {
      "cell_type": "code",
      "metadata": {
        "id": "f6-aODSoeYwS"
      },
      "source": [
        "while True:\n",
        "    print('\\Main Menu')\n",
        "    print('1.Caeser')\n",
        "    print('2. Vigenere')\n",
        "    print('3.Exit')\n",
        "    choice_1 = int(input('enter the choice: '))\n",
        "\n",
        "    if choice_1 == 1:\n",
        "        print('Caeser')\n",
        "        print('1. enter the text' )\n",
        "        print('2.enter they key')\n",
        "        print('3.Exit')\n",
        "        choice_2 = int(input('enter the choice: '))\n",
        "\n",
        "        if choice_2 ==1:\n",
        "          "
      ],
      "execution_count": null,
      "outputs": []
    }
  ]
}